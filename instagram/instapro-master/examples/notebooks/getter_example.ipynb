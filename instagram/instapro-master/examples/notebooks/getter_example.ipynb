{
 "cells": [
  {
   "cell_type": "markdown",
   "metadata": {},
   "source": [
    "# Getter example\n",
    "\n",
    "The example of simple Getter class usage and even simpler analysis on recieved data."
   ]
  },
  {
   "cell_type": "markdown",
   "metadata": {},
   "source": [
    "## Preparations\n",
    "Import instabot from sources"
   ]
  },
  {
   "cell_type": "code",
   "execution_count": 1,
   "metadata": {
    "collapsed": true
   },
   "outputs": [],
   "source": [
    "import sys\n",
    "sys.path.append('../../')\n",
    "from instabot import User, Getter"
   ]
  },
  {
   "cell_type": "markdown",
   "metadata": {},
   "source": [
    "Login users to be used in instabot. I suggest you to add as many users as you have because all get requests will be parallized between them to distribute the Instagram servers load.  "
   ]
  },
  {
   "cell_type": "code",
   "execution_count": 2,
   "metadata": {
    "collapsed": true
   },
   "outputs": [],
   "source": [
    "_ = User(\"user_for_scrapping1\", \"password\")\n",
    "_ = User(\"user_for_scrapping2\", \"password\")\n",
    "_ = User(\"user_for_scrapping3\", \"password\")"
   ]
  },
  {
   "cell_type": "markdown",
   "metadata": {},
   "source": [
    "Init the Getter class without any parameters. It will use all of the available and successfully logged in users to parallize the get requests to Instagram's servers."
   ]
  },
  {
   "cell_type": "code",
   "execution_count": 3,
   "metadata": {
    "collapsed": false
   },
   "outputs": [],
   "source": [
    "get = Getter()"
   ]
  },
  {
   "cell_type": "markdown",
   "metadata": {},
   "source": [
    "## Usage cases\n",
    "### Users who posted with geotag\n",
    "Almost all Getter methods return generators to iterate over medias or users. But some of them such as __get.geo_id__ or __get.user_info__ return single value: the number or the dictionary (json-like)."
   ]
  },
  {
   "cell_type": "code",
   "execution_count": 4,
   "metadata": {
    "collapsed": false
   },
   "outputs": [
    {
     "name": "stdout",
     "output_type": "stream",
     "text": [
      "The id of МФТИ is 1433831.\n"
     ]
    }
   ],
   "source": [
    "location_name = \"МФТИ\"\n",
    "location_id = get.geo_id(location_name)\n",
    "print (\"The id of %s is %d.\" % (location_name, location_id))"
   ]
  },
  {
   "cell_type": "markdown",
   "metadata": {},
   "source": [
    "For example you want to know who posts with specific geotag. You can iterate over medias and take the author's username. \n",
    "\n",
    "Get iterator over geo medias"
   ]
  },
  {
   "cell_type": "code",
   "execution_count": 5,
   "metadata": {
    "collapsed": true
   },
   "outputs": [],
   "source": [
    "geo_medias = get.geo_medias(location_id, total=10)"
   ]
  },
  {
   "cell_type": "code",
   "execution_count": 6,
   "metadata": {
    "collapsed": false
   },
   "outputs": [
    {
     "name": "stdout",
     "output_type": "stream",
     "text": [
      "Users who post with МФТИ geotag:\n",
      "alissonramos539\n",
      "kir_ilya\n",
      "blackgannet\n",
      "secchiarolli\n",
      "tinyshortslongarms\n",
      "igorturin1981\n",
      "rybkinaliza\n",
      "g_v_001\n",
      "mistergahan\n",
      "a_talyzina\n"
     ]
    }
   ],
   "source": [
    "print (\"Users who post with %s geotag:\" % location_name)\n",
    "for media in geo_medias:\n",
    "    print (media[\"user\"][\"username\"])"
   ]
  },
  {
   "cell_type": "markdown",
   "metadata": {},
   "source": [
    "All the values that are in response media's json:"
   ]
  },
  {
   "cell_type": "code",
   "execution_count": 7,
   "metadata": {
    "collapsed": false,
    "scrolled": false
   },
   "outputs": [
    {
     "data": {
      "text/plain": [
       "dict_keys(['client_cache_key', 'has_liked', 'photo_of_you', 'comments', 'preview_comments', 'comment_count', 'media_type', 'max_num_visible_preview_comments', 'lat', 'lng', 'code', 'user', 'comment_likes_enabled', 'image_versions2', 'like_count', 'taken_at', 'has_more_comments', 'filter_type', 'device_timestamp', 'original_height', 'caption_is_edited', 'location', 'original_width', 'id', 'caption', 'organic_tracking_token', 'pk', 'usertags'])"
      ]
     },
     "execution_count": 7,
     "metadata": {},
     "output_type": "execute_result"
    }
   ],
   "source": [
    "media.keys()"
   ]
  },
  {
   "cell_type": "markdown",
   "metadata": {},
   "source": [
    "### User's mean likes\n",
    "Another use case: count the mean and std of recieved likes of specific user."
   ]
  },
  {
   "cell_type": "code",
   "execution_count": 8,
   "metadata": {
    "collapsed": false
   },
   "outputs": [
    {
     "name": "stdout",
     "output_type": "stream",
     "text": [
      "The id of 'ohld' is 352300017.\n"
     ]
    }
   ],
   "source": [
    "username = \"ohld\"\n",
    "user_info = get.user_info(username)\n",
    "user_id = user_info[\"pk\"]\n",
    "print (\"The id of '%s' is %d.\" % (username, user_id))"
   ]
  },
  {
   "cell_type": "code",
   "execution_count": 9,
   "metadata": {
    "collapsed": false
   },
   "outputs": [
    {
     "name": "stdout",
     "output_type": "stream",
     "text": [
      "Amount of likes recieved by ohld\n",
      "[330, 168, 208, 1829, 1516, 532, 343, 307, 347, 390, 523, 391, 750, 1046, 2760, 276, 157, 192, 193, 274]\n",
      "Mean: 626.60. Total: 12532\n"
     ]
    }
   ],
   "source": [
    "mean = lambda l: 0 if l == [] else sum(l) * 1. / len(l)\n",
    "\n",
    "like_counts = [media[\"like_count\"] for media in get.user_feed(user_id, total=20)]\n",
    "print (\"Amount of likes recieved by %s\" % username)\n",
    "print (like_counts)\n",
    "print (\"Mean: %.2f. Total: %d\" % (mean(like_counts), sum(like_counts)))"
   ]
  },
  {
   "cell_type": "markdown",
   "metadata": {},
   "source": [
    "### Mean likes of every follower\n",
    "So let's test the Getter module with __hard task__: calculate mean likes of every follower and make some analysis."
   ]
  },
  {
   "cell_type": "code",
   "execution_count": 10,
   "metadata": {
    "collapsed": false
   },
   "outputs": [
    {
     "name": "stdout",
     "output_type": "stream",
     "text": [
      "\n"
     ]
    }
   ],
   "source": [
    "from tqdm import tqdm_notebook # to see the progress of scrapping\n",
    "\n",
    "mean_likes = {}\n",
    "for user in tqdm_notebook(get.user_followers(user_id), total=user_info[\"follower_count\"]):\n",
    "    like_counts = [media['like_count'] for media in get.user_feed(user['pk'], total=5)]\n",
    "    mean_likes[user[\"username\"]] = mean(like_counts)"
   ]
  },
  {
   "cell_type": "code",
   "execution_count": 11,
   "metadata": {
    "collapsed": false
   },
   "outputs": [
    {
     "data": {
      "image/png": "[encoded data removed]",
      "text/plain": [
       "<matplotlib.figure.Figure at 0x10a683240>"
      ]
     },
     "metadata": {},
     "output_type": "display_data"
    }
   ],
   "source": [
    "import matplotlib.pyplot as plt\n",
    "%matplotlib inline\n",
    "\n",
    "plt.figure(figsize=(15, 5))\n",
    "plt.hist([i for i in list(mean_likes.values()) if i > 0], bins=500)\n",
    "plt.title(\"Mean likes of %s followers\" % username)\n",
    "plt.xlabel(\"Mean likes\")\n",
    "plt.ylabel(\"Frequency\")\n",
    "plt.show()"
   ]
  },
  {
   "cell_type": "code",
   "execution_count": 12,
   "metadata": {
    "collapsed": false
   },
   "outputs": [
    {
     "data": {
      "image/png": "[encoded data removed]",
      "text/plain": [
       "<matplotlib.figure.Figure at 0x1078df390>"
      ]
     },
     "metadata": {},
     "output_type": "display_data"
    }
   ],
   "source": [
    "filtered_likes = [item for item in mean_likes.values() if 0 < item < 300]\n",
    "plt.figure(figsize=(15, 5))\n",
    "plt.hist(filtered_likes, bins=100)\n",
    "plt.title(\"Mean likes of %s followers\" % username)\n",
    "plt.xlabel(\"Mean likes\")\n",
    "plt.ylabel(\"Frequency\")\n",
    "plt.show()"
   ]
  },
  {
   "cell_type": "markdown",
   "metadata": {},
   "source": [
    "Let's take a look at the greatest mean likes owner"
   ]
  },
  {
   "cell_type": "code",
   "execution_count": 13,
   "metadata": {
    "collapsed": false
   },
   "outputs": [
    {
     "name": "stdout",
     "output_type": "stream",
     "text": [
      "lord.ach has the highest value of mean likes in ohld followers.\n"
     ]
    }
   ],
   "source": [
    "print (\"%s has the highest value of mean likes in %s followers.\" % (max(mean_likes, key=mean_likes.get), username))"
   ]
  }
 ],
 "metadata": {
  "kernelspec": {
   "display_name": "Python 3",
   "language": "python",
   "name": "python3"
  },
  "language_info": {
   "codemirror_mode": {
    "name": "ipython",
    "version": 3
   },
   "file_extension": ".py",
   "mimetype": "text/x-python",
   "name": "python",
   "nbconvert_exporter": "python",
   "pygments_lexer": "ipython3",
   "version": "3.5.1"
  },
  "widgets": {
   "state": {
    "f923e33a107041b3ac6800be46aea286": {
     "views": [
      {
       "cell_index": 18
      }
     ]
    }
   },
   "version": "1.2.0"
  }
 },
 "nbformat": 4,
 "nbformat_minor": 0
}
